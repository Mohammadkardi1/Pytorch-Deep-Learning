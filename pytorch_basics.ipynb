{
  "nbformat": 4,
  "nbformat_minor": 0,
  "metadata": {
    "colab": {
      "name": "training.ipynb",
      "provenance": [],
      "collapsed_sections": []
    },
    "kernelspec": {
      "name": "python3",
      "display_name": "Python 3"
    },
    "accelerator": "GPU"
  },
  "cells": [
    {
      "cell_type": "code",
      "metadata": {
        "id": "SdrVw3dXY01s",
        "colab_type": "code",
        "colab": {}
      },
      "source": [
        "import torch \n",
        "import torchvision\n",
        "import torch.nn as nn\n",
        "import numpy as np\n",
        "import torchvision.transforms as transforms"
      ],
      "execution_count": 0,
      "outputs": []
    },
    {
      "cell_type": "markdown",
      "metadata": {
        "id": "O3HY2iS8UEt_",
        "colab_type": "text"
      },
      "source": [
        "#Create tensors"
      ]
    },
    {
      "cell_type": "code",
      "metadata": {
        "id": "O0WYcobBUGtC",
        "colab_type": "code",
        "colab": {}
      },
      "source": [
        "x = torch.tensor(1., requires_grad=True)\n",
        "w = torch.tensor(2., requires_grad=True)\n",
        "b = torch.tensor(3., requires_grad=True)"
      ],
      "execution_count": 0,
      "outputs": []
    },
    {
      "cell_type": "markdown",
      "metadata": {
        "id": "x3HHmYuSW6Es",
        "colab_type": "text"
      },
      "source": [
        "# Print out the gradients"
      ]
    },
    {
      "cell_type": "code",
      "metadata": {
        "id": "O1Y--H-eW6Nv",
        "colab_type": "code",
        "colab": {}
      },
      "source": [
        "print(x.grad) "
      ],
      "execution_count": 0,
      "outputs": []
    },
    {
      "cell_type": "markdown",
      "metadata": {
        "id": "5ibhsRCXUP_p",
        "colab_type": "text"
      },
      "source": [
        "#Compute gradients"
      ]
    },
    {
      "cell_type": "code",
      "metadata": {
        "id": "NZ_6b_7gUQU0",
        "colab_type": "code",
        "colab": {}
      },
      "source": [
        "y.backward()"
      ],
      "execution_count": 0,
      "outputs": []
    },
    {
      "cell_type": "markdown",
      "metadata": {
        "id": "EzXa3LphUjbk",
        "colab_type": "text"
      },
      "source": [
        "# Create tensors of shape (10, 3) and (10, 2)"
      ]
    },
    {
      "cell_type": "code",
      "metadata": {
        "id": "ENASTP4OUjlK",
        "colab_type": "code",
        "colab": {}
      },
      "source": [
        "x = torch.randn(10, 3)\n",
        "y = torch.randn(10, 2)"
      ],
      "execution_count": 0,
      "outputs": []
    },
    {
      "cell_type": "markdown",
      "metadata": {
        "id": "PicJbh5LUsYj",
        "colab_type": "text"
      },
      "source": [
        "# Build a fully connected layer"
      ]
    },
    {
      "cell_type": "code",
      "metadata": {
        "id": "rU81eqbaUsgP",
        "colab_type": "code",
        "colab": {}
      },
      "source": [
        "linear = nn.Linear(3, 2)"
      ],
      "execution_count": 0,
      "outputs": []
    },
    {
      "cell_type": "markdown",
      "metadata": {
        "id": "vVMyau1oUxAx",
        "colab_type": "text"
      },
      "source": [
        "# Build loss function and optimizer."
      ]
    },
    {
      "cell_type": "code",
      "metadata": {
        "id": "14_57n6ZUxIT",
        "colab_type": "code",
        "colab": {}
      },
      "source": [
        "criterion = nn.MSELoss()\n",
        "optimizer = torch.optim.SGD(linear.parameters(), lr=0.01)\n",
        "#optimizer = torch.optim.Adam(linear.parameters(), lr=0.01)\n",
        "#optimizer = torch.optim.RMSprop(linear.parameters(), lr=0.01)"
      ],
      "execution_count": 0,
      "outputs": []
    },
    {
      "cell_type": "markdown",
      "metadata": {
        "id": "ZRrt_mFLU_9_",
        "colab_type": "text"
      },
      "source": [
        "# Forward pass"
      ]
    },
    {
      "cell_type": "code",
      "metadata": {
        "id": "BZgBv4VXVAHc",
        "colab_type": "code",
        "colab": {}
      },
      "source": [
        "pred = linear(x)"
      ],
      "execution_count": 0,
      "outputs": []
    },
    {
      "cell_type": "markdown",
      "metadata": {
        "id": "sytFjWeGVFRv",
        "colab_type": "text"
      },
      "source": [
        "# Compute loss."
      ]
    },
    {
      "cell_type": "code",
      "metadata": {
        "id": "J9oyj2DIVFcg",
        "colab_type": "code",
        "colab": {}
      },
      "source": [
        "loss = criterion(pred, y)\n",
        "print('loss: ', loss.item())"
      ],
      "execution_count": 0,
      "outputs": []
    },
    {
      "cell_type": "markdown",
      "metadata": {
        "id": "vSRbkSu5VJ6t",
        "colab_type": "text"
      },
      "source": [
        "# Backward pass."
      ]
    },
    {
      "cell_type": "code",
      "metadata": {
        "id": "13_Gby8aVKB2",
        "colab_type": "code",
        "colab": {}
      },
      "source": [
        "loss.backward()"
      ],
      "execution_count": 0,
      "outputs": []
    },
    {
      "cell_type": "markdown",
      "metadata": {
        "id": "afmHU1VmVPXk",
        "colab_type": "text"
      },
      "source": [
        "# Print out the gradients."
      ]
    },
    {
      "cell_type": "code",
      "metadata": {
        "id": "H41zUAY-VPd6",
        "colab_type": "code",
        "colab": {}
      },
      "source": [
        "print ('dL/dw: ', linear.weight.grad) \n",
        "print ('dL/db: ', linear.bias.grad)"
      ],
      "execution_count": 0,
      "outputs": []
    },
    {
      "cell_type": "markdown",
      "metadata": {
        "id": "wRV2sfvuVUVm",
        "colab_type": "text"
      },
      "source": [
        "# 1-step gradient descent."
      ]
    },
    {
      "cell_type": "code",
      "metadata": {
        "id": "Tpta8fF7VUcu",
        "colab_type": "code",
        "colab": {}
      },
      "source": [
        "optimizer.step()"
      ],
      "execution_count": 0,
      "outputs": []
    },
    {
      "cell_type": "markdown",
      "metadata": {
        "id": "pSOC9aqdVZYk",
        "colab_type": "text"
      },
      "source": [
        "# Print out the loss after 1-step gradient descent."
      ]
    },
    {
      "cell_type": "code",
      "metadata": {
        "id": "ecbY6syVVZgn",
        "colab_type": "code",
        "colab": {}
      },
      "source": [
        "pred = linear(x)\n",
        "loss = criterion(pred, y)\n",
        "print('loss after 1 step optimization: ', loss.item())"
      ],
      "execution_count": 0,
      "outputs": []
    },
    {
      "cell_type": "markdown",
      "metadata": {
        "id": "wMrRwqiVVhRL",
        "colab_type": "text"
      },
      "source": [
        "#Loading data from numpy"
      ]
    },
    {
      "cell_type": "code",
      "metadata": {
        "id": "zPKePifKVhaM",
        "colab_type": "code",
        "colab": {}
      },
      "source": [
        "# Create a numpy array.\n",
        "x = np.array([[1, 2], [3, 4]])\n",
        "\n",
        "# Convert the numpy array to a torch tensor.\n",
        "y = torch.from_numpy(x)\n",
        "\n",
        "# Convert the torch tensor to a numpy array.\n",
        "z = y.numpy()"
      ],
      "execution_count": 0,
      "outputs": []
    },
    {
      "cell_type": "markdown",
      "metadata": {
        "id": "yGrcQGnTV2Pd",
        "colab_type": "text"
      },
      "source": [
        "#Input pipline "
      ]
    },
    {
      "cell_type": "code",
      "metadata": {
        "id": "mAVz6m_WV2ZF",
        "colab_type": "code",
        "colab": {}
      },
      "source": [
        "# Download and construct CIFAR-10 dataset.\n",
        "train_dataset = torchvision.datasets.CIFAR10(root='../../data/',\n",
        "                                             train=True, \n",
        "                                             transform=transforms.ToTensor(),\n",
        "                                             download=True)\n",
        "\n",
        "# Fetch one data pair (read data from disk).\n",
        "image, label = train_dataset[0]\n",
        "print (image.size())\n",
        "print (label)\n",
        "\n",
        "# Data loader (this provides queues and threads in a very simple way).\n",
        "train_loader = torch.utils.data.DataLoader(dataset=train_dataset,\n",
        "                                           batch_size=64, \n",
        "                                           shuffle=True)\n",
        "\n",
        "# When iteration starts, queue and thread start to load data from files.\n",
        "data_iter = iter(train_loader)\n",
        "\n",
        "# Mini-batch images and labels.\n",
        "images, labels = data_iter.next()\n",
        "\n",
        "# Actual usage of the data loader is as below.\n",
        "for images, labels in train_loader:\n",
        "    # Training code should be written here.\n",
        "    pass"
      ],
      "execution_count": 0,
      "outputs": []
    },
    {
      "cell_type": "markdown",
      "metadata": {
        "id": "1MVLTRrLWQSP",
        "colab_type": "text"
      },
      "source": [
        "#Pretrained model "
      ]
    },
    {
      "cell_type": "code",
      "metadata": {
        "id": "asoACYl4WQdv",
        "colab_type": "code",
        "colab": {}
      },
      "source": [
        "# Download and load the pretrained ResNet-18.\n",
        "resnet = torchvision.models.resnet18(pretrained=True)\n",
        "\n",
        "# If you want to finetune only the top layer of the model, set as below.\n",
        "for param in resnet.parameters():\n",
        "    param.requires_grad = False\n",
        "\n",
        "# Replace the top layer for finetuning.\n",
        "resnet.fc = nn.Linear(resnet.fc.in_features, 100)  # 100 is an example.\n",
        "\n",
        "# Forward pass.\n",
        "images = torch.randn(64, 3, 224, 224)\n",
        "outputs = resnet(images)\n",
        "print (outputs.size())     # (64, 100)"
      ],
      "execution_count": 0,
      "outputs": []
    },
    {
      "cell_type": "markdown",
      "metadata": {
        "id": "jpj7HG3xWYmo",
        "colab_type": "text"
      },
      "source": [
        "#Save and load the model   "
      ]
    },
    {
      "cell_type": "code",
      "metadata": {
        "id": "RR1JPBzIWYuA",
        "colab_type": "code",
        "colab": {}
      },
      "source": [
        "# Save and load the entire model.\n",
        "torch.save(resnet, 'model.pt')\n",
        "model = torch.load('model.pt')\n",
        "\n",
        "# Save and load only the model parameters (recommended).\n",
        "torch.save(resnet.state_dict(), 'params.pt')\n",
        "resnet.load_state_dict(torch.load('params.pt'))"
      ],
      "execution_count": 0,
      "outputs": []
    }
  ]
}